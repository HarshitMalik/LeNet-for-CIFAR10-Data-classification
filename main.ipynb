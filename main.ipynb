{
  "nbformat": 4,
  "nbformat_minor": 0,
  "metadata": {
    "colab": {
      "name": "LeNet for CIFAR10 data classification.ipynb",
      "version": "0.3.2",
      "provenance": []
    },
    "kernelspec": {
      "name": "python3",
      "display_name": "Python 3"
    },
    "accelerator": "GPU"
  },
  "cells": [
    {
      "metadata": {
        "id": "uuCs8YtI6e81",
        "colab_type": "text"
      },
      "cell_type": "markdown",
      "source": [
        "# LeNeT for CIFAR10 Data Classification"
      ]
    },
    {
      "metadata": {
        "id": "-p4COh2b6vyb",
        "colab_type": "code",
        "colab": {}
      },
      "cell_type": "code",
      "source": [
        "%matplotlib inline\n",
        "import torch\n",
        "import torch.nn as nn\n",
        "import torch.nn.functional as F\n",
        "import numpy as np\n",
        "from torchvision import transforms,datasets\n",
        "import torch.optim as optim\n",
        "from torch.autograd import Variable\n",
        "import matplotlib.pyplot as plt\n",
        "import torchvision\n",
        "import time"
      ],
      "execution_count": 0,
      "outputs": []
    },
    {
      "metadata": {
        "id": "s306Wfg46sog",
        "colab_type": "text"
      },
      "cell_type": "markdown",
      "source": [
        "## Load Data"
      ]
    },
    {
      "metadata": {
        "id": "5nGbdwpy6wjv",
        "colab_type": "code",
        "outputId": "d11838f2-422c-4e12-9c23-27ad8cf0df89",
        "colab": {
          "base_uri": "https://localhost:8080/",
          "height": 74
        }
      },
      "cell_type": "code",
      "source": [
        "apply_transform = transforms.Compose([transforms.Resize(32),transforms.ToTensor()])\n",
        "BatchSize = 100\n",
        "\n",
        "trainset = datasets.CIFAR10(root='./CIFAR10', train=True, download=True, transform=apply_transform)\n",
        "trainLoader = torch.utils.data.DataLoader(trainset, batch_size=BatchSize,\n",
        "                                          shuffle=True, num_workers=4) # Creating dataloader\n",
        "\n",
        "testset = datasets.CIFAR10(root='./CIFAR10', train=False, download=True, transform=apply_transform)\n",
        "testLoader = torch.utils.data.DataLoader(testset, batch_size=BatchSize,\n",
        "                                         shuffle=False, num_workers=4) # Creating dataloader"
      ],
      "execution_count": 2,
      "outputs": [
        {
          "output_type": "stream",
          "text": [
            "  0%|          | 0/170498071 [00:00<?, ?it/s]"
          ],
          "name": "stderr"
        },
        {
          "output_type": "stream",
          "text": [
            "Downloading https://www.cs.toronto.edu/~kriz/cifar-10-python.tar.gz to ./CIFAR10/cifar-10-python.tar.gz\n"
          ],
          "name": "stdout"
        },
        {
          "output_type": "stream",
          "text": [
            "100%|█████████▉| 170008576/170498071 [00:15<00:00, 9688967.58it/s]"
          ],
          "name": "stderr"
        },
        {
          "output_type": "stream",
          "text": [
            "Files already downloaded and verified\n"
          ],
          "name": "stdout"
        }
      ]
    },
    {
      "metadata": {
        "id": "SyHzLrbc64WF",
        "colab_type": "code",
        "outputId": "db3f879f-5042-471b-ecfa-fa4ba4a2e1fb",
        "colab": {
          "base_uri": "https://localhost:8080/",
          "height": 54
        }
      },
      "cell_type": "code",
      "source": [
        "# Size of train and test datasets\n",
        "print('No. of samples in train set: '+str(len(trainLoader.dataset)))\n",
        "print('No. of samples in test set: '+str(len(testLoader.dataset)))"
      ],
      "execution_count": 3,
      "outputs": [
        {
          "output_type": "stream",
          "text": [
            "No. of samples in train set: 50000\n",
            "No. of samples in test set: 10000\n"
          ],
          "name": "stdout"
        }
      ]
    },
    {
      "metadata": {
        "id": "AiF5Q6gL66y_",
        "colab_type": "text"
      },
      "cell_type": "markdown",
      "source": [
        "## Define network architecture"
      ]
    },
    {
      "metadata": {
        "id": "o0hK3oi66-br",
        "colab_type": "code",
        "colab": {}
      },
      "cell_type": "code",
      "source": [
        "class LeNet(nn.Module):\n",
        "    def __init__(self):\n",
        "        super(LeNet, self).__init__()\n",
        "        self.conv1 = nn.Conv2d(3, 6, 5)\n",
        "        self.pool = nn.MaxPool2d(2, 2)\n",
        "        self.conv2 = nn.Conv2d(6, 16, 5)\n",
        "        self.fc1 = nn.Linear(16 * 5 * 5, 120)\n",
        "        self.fc2 = nn.Linear(120, 84)\n",
        "        self.fc3 = nn.Linear(84, 10)\n",
        "\n",
        "    def forward(self, x):\n",
        "        x = self.pool(F.relu(self.conv1(x)))\n",
        "        x = self.pool(F.relu(self.conv2(x)))\n",
        "        x = x.view(-1, 16 * 5 * 5)\n",
        "        x = F.relu(self.fc1(x))\n",
        "        x = F.relu(self.fc2(x))\n",
        "        x = self.fc3(x)\n",
        "        return F.log_softmax(x)"
      ],
      "execution_count": 0,
      "outputs": []
    },
    {
      "metadata": {
        "id": "C2Ah-jM87BQM",
        "colab_type": "code",
        "outputId": "8ed09649-0d4c-4bde-ae55-a7186bb2d542",
        "colab": {
          "base_uri": "https://localhost:8080/",
          "height": 164
        }
      },
      "cell_type": "code",
      "source": [
        "net = LeNet()\n",
        "print(net)"
      ],
      "execution_count": 5,
      "outputs": [
        {
          "output_type": "stream",
          "text": [
            "LeNet(\n",
            "  (conv1): Conv2d(3, 6, kernel_size=(5, 5), stride=(1, 1))\n",
            "  (pool): MaxPool2d(kernel_size=2, stride=2, padding=0, dilation=1, ceil_mode=False)\n",
            "  (conv2): Conv2d(6, 16, kernel_size=(5, 5), stride=(1, 1))\n",
            "  (fc1): Linear(in_features=400, out_features=120, bias=True)\n",
            "  (fc2): Linear(in_features=120, out_features=84, bias=True)\n",
            "  (fc3): Linear(in_features=84, out_features=10, bias=True)\n",
            ")\n"
          ],
          "name": "stdout"
        }
      ]
    },
    {
      "metadata": {
        "id": "ej18IhJn7FiV",
        "colab_type": "code",
        "outputId": "7f1ce412-076b-4255-d604-41a59468ba1f",
        "colab": {
          "base_uri": "https://localhost:8080/",
          "height": 35
        }
      },
      "cell_type": "code",
      "source": [
        "# Check availability of GPU\n",
        "use_gpu = torch.cuda.is_available()\n",
        "if use_gpu:\n",
        "    print('GPU is available!')   \n",
        "    net = net.cuda()"
      ],
      "execution_count": 6,
      "outputs": [
        {
          "output_type": "stream",
          "text": [
            "GPU is available!\n"
          ],
          "name": "stdout"
        }
      ]
    },
    {
      "metadata": {
        "id": "REvlAt397GoN",
        "colab_type": "code",
        "colab": {}
      },
      "cell_type": "code",
      "source": [
        "criterion = nn.NLLLoss() # Negative Log-likelihood\n",
        "optimizer = optim.Adam(net.parameters(), lr=1e-4) # Adam"
      ],
      "execution_count": 0,
      "outputs": []
    },
    {
      "metadata": {
        "id": "NOw_-vW87JBM",
        "colab_type": "text"
      },
      "cell_type": "markdown",
      "source": [
        "## Train the network"
      ]
    },
    {
      "metadata": {
        "id": "zpFcrdNU7M4L",
        "colab_type": "code",
        "outputId": "1540de34-b722-404c-f18b-7cac71328bf8",
        "colab": {
          "base_uri": "https://localhost:8080/",
          "height": 965
        }
      },
      "cell_type": "code",
      "source": [
        "iterations = 20\n",
        "trainLoss = []\n",
        "testAcc = []\n",
        "start = time.time()\n",
        "for epoch in range(iterations):\n",
        "    epochStart = time.time()\n",
        "    runningLoss = 0    \n",
        "    net.train(True) # For training\n",
        "    for data in trainLoader:\n",
        "        inputs,labels = data\n",
        "        # Wrap them in Variable\n",
        "        if use_gpu:\n",
        "            inputs, labels = Variable(inputs.cuda()), \\\n",
        "                Variable(labels.cuda())\n",
        "        else:\n",
        "            inputs, labels = Variable(inputs), Variable(labels)  \n",
        "       \n",
        "        # Initialize gradients to zero\n",
        "        optimizer.zero_grad()\n",
        "        # Feed-forward input data through the network        \n",
        "        outputs = net(inputs)        \n",
        "        # Compute loss/error\n",
        "        loss = criterion(outputs, labels)\n",
        "        # Backpropagate loss and compute gradients\n",
        "        loss.backward()\n",
        "        # Update the network parameters\n",
        "        optimizer.step()\n",
        "        # Accumulate loss per batch\n",
        "        runningLoss += loss.data  \n",
        "    avgTrainLoss = runningLoss/50000.0\n",
        "    trainLoss.append(avgTrainLoss)\n",
        "    \n",
        "    # Evaluating performance on test set for each epoch\n",
        "    net.train(False) # For testing [Affects batch-norm and dropout layers (if any)]\n",
        "    running_correct = 0\n",
        "    for data in testLoader:\n",
        "        inputs,labels = data\n",
        "        # Wrap them in Variable\n",
        "        if use_gpu:\n",
        "            inputs = Variable(inputs.cuda())\n",
        "            outputs = net(inputs)\n",
        "            _, predicted = torch.max(outputs.data, 1)\n",
        "            predicted = predicted.cpu()\n",
        "        else:\n",
        "            inputs = Variable(inputs)\n",
        "            outputs = net(inputs)\n",
        "            _, predicted = torch.max(outputs.data, 1)\n",
        "        running_correct += (predicted == labels).sum()\n",
        "    avgTestAcc = float(running_correct)/10000.0\n",
        "    testAcc.append(avgTestAcc)\n",
        "    # Plotting training loss vs Epochs\n",
        "    fig1 = plt.figure(1)        \n",
        "    plt.plot(range(epoch+1),trainLoss,'r-',label='train')        \n",
        "    if epoch==0:\n",
        "        plt.legend(loc='upper left')\n",
        "        plt.xlabel('Epochs')\n",
        "        plt.ylabel('Training loss')   \n",
        "    # Plotting testing accuracy vs Epochs\n",
        "    fig2 = plt.figure(2)        \n",
        "    plt.plot(range(epoch+1),testAcc,'g-',label='test')        \n",
        "    if epoch==0:\n",
        "        plt.legend(loc='upper left')\n",
        "        plt.xlabel('Epochs')\n",
        "        plt.ylabel('Testing accuracy')    \n",
        "    epochEnd = time.time()-epochStart\n",
        "    print('Iteration: {:.0f} /{:.0f}  ;  Training Loss: {:.6f} ; Testing Acc: {:.3f} ; Time consumed: {:.0f}m {:.0f}s '\\\n",
        "          .format(epoch + 1,iterations,avgTrainLoss,avgTestAcc*100,epochEnd//60,epochEnd%60))\n",
        "end = time.time()-start\n",
        "print('Training completed in {:.0f}m {:.0f}s'.format(end//60,end%60))\n"
      ],
      "execution_count": 9,
      "outputs": [
        {
          "output_type": "stream",
          "text": [
            "/usr/local/lib/python3.6/dist-packages/ipykernel_launcher.py:18: UserWarning: Implicit dimension choice for log_softmax has been deprecated. Change the call to include dim=X as an argument.\n"
          ],
          "name": "stderr"
        },
        {
          "output_type": "stream",
          "text": [
            "Iteration: 1 /20  ;  Training Loss: 0.012737 ; Testing Acc: 53.870 ; Time consumed: 0m 11s \n",
            "Iteration: 2 /20  ;  Training Loss: 0.012663 ; Testing Acc: 54.120 ; Time consumed: 0m 12s \n",
            "Iteration: 3 /20  ;  Training Loss: 0.012614 ; Testing Acc: 54.670 ; Time consumed: 0m 12s \n",
            "Iteration: 4 /20  ;  Training Loss: 0.012561 ; Testing Acc: 54.150 ; Time consumed: 0m 12s \n",
            "Iteration: 5 /20  ;  Training Loss: 0.012488 ; Testing Acc: 54.520 ; Time consumed: 0m 12s \n",
            "Iteration: 6 /20  ;  Training Loss: 0.012429 ; Testing Acc: 54.920 ; Time consumed: 0m 12s \n",
            "Iteration: 7 /20  ;  Training Loss: 0.012394 ; Testing Acc: 54.610 ; Time consumed: 0m 12s \n",
            "Iteration: 8 /20  ;  Training Loss: 0.012323 ; Testing Acc: 54.730 ; Time consumed: 0m 12s \n",
            "Iteration: 9 /20  ;  Training Loss: 0.012267 ; Testing Acc: 55.150 ; Time consumed: 0m 12s \n",
            "Iteration: 10 /20  ;  Training Loss: 0.012217 ; Testing Acc: 55.620 ; Time consumed: 0m 12s \n",
            "Iteration: 11 /20  ;  Training Loss: 0.012151 ; Testing Acc: 55.810 ; Time consumed: 0m 12s \n",
            "Iteration: 12 /20  ;  Training Loss: 0.012114 ; Testing Acc: 55.360 ; Time consumed: 0m 12s \n",
            "Iteration: 13 /20  ;  Training Loss: 0.012061 ; Testing Acc: 55.760 ; Time consumed: 0m 12s \n",
            "Iteration: 14 /20  ;  Training Loss: 0.011999 ; Testing Acc: 56.230 ; Time consumed: 0m 12s \n",
            "Iteration: 15 /20  ;  Training Loss: 0.011935 ; Testing Acc: 56.310 ; Time consumed: 0m 12s \n",
            "Iteration: 16 /20  ;  Training Loss: 0.011899 ; Testing Acc: 56.360 ; Time consumed: 0m 12s \n",
            "Iteration: 17 /20  ;  Training Loss: 0.011845 ; Testing Acc: 56.320 ; Time consumed: 0m 12s \n",
            "Iteration: 18 /20  ;  Training Loss: 0.011791 ; Testing Acc: 56.500 ; Time consumed: 0m 12s \n",
            "Iteration: 19 /20  ;  Training Loss: 0.011732 ; Testing Acc: 56.420 ; Time consumed: 0m 12s \n",
            "Iteration: 20 /20  ;  Training Loss: 0.011701 ; Testing Acc: 56.680 ; Time consumed: 0m 11s \n",
            "Training completed in 3m 55s\n"
          ],
          "name": "stdout"
        },
        {
          "output_type": "display_data",
          "data": {
            "image/png": "[encoded data removed]",
            "text/plain": [
              "<Figure size 432x288 with 1 Axes>"
            ]
          },
          "metadata": {
            "tags": []
          }
        },
        {
          "output_type": "display_data",
          "data": {
            "image/png": "[encoded data removed]",
            "text/plain": [
              "<Figure size 432x288 with 1 Axes>"
            ]
          },
          "metadata": {
            "tags": []
          }
        }
      ]
    },
    {
      "metadata": {
        "id": "cZGrOEX17QZV",
        "colab_type": "code",
        "colab": {}
      },
      "cell_type": "code",
      "source": [
        ""
      ],
      "execution_count": 0,
      "outputs": []
    }
  ]
}